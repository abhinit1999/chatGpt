{
 "cells": [
  {
   "cell_type": "markdown",
   "id": "4b7a36ed",
   "metadata": {},
   "source": [
    "# RNN - Recurent Neural Network\n",
    "## Deep learning  - model\n",
    "\n",
    "sen = \"what is AI\"\n",
    "\n",
    "metrix = what = [1,0,0] - RNN - t1\n",
    "         is =   [0,1,0] - RNN - t2\n",
    "         AI =   [0,0,1] - RNN - t3\n",
    "\n",
    "# LSTM - Long sort term Memory"
   ]
  },
  {
   "cell_type": "markdown",
   "id": "7ef76293",
   "metadata": {},
   "source": []
  }
 ],
 "metadata": {
  "language_info": {
   "name": "python"
  }
 },
 "nbformat": 4,
 "nbformat_minor": 5
}
